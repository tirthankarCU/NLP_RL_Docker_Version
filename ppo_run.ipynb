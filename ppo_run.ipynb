{
 "cells": [
  {
   "cell_type": "code",
   "execution_count": 3,
   "metadata": {},
   "outputs": [
    {
     "name": "stdout",
     "output_type": "stream",
     "text": [
      "[Errno 2] No such file or directory: 'NLP_RL_Docker_Version/'\n",
      "/NLP_RL_Docker_Version\n"
     ]
    }
   ],
   "source": [
    "%cd NLP_RL_Docker_Version/\n",
    "!rm -rf results/\n",
    "!mkdir results"
   ]
  },
  {
   "cell_type": "code",
   "execution_count": 4,
   "metadata": {},
   "outputs": [
    {
     "name": "stdout",
     "output_type": "stream",
     "text": [
      "/usr/local/lib/python3.10/dist-packages/pygame/pkgdata.py:25: DeprecationWarning: pkg_resources is deprecated as an API. See https://setuptools.pypa.io/en/latest/pkg_resources.html\n",
      "  from pkg_resources import resource_stream, resource_exists\n",
      "/usr/local/lib/python3.10/dist-packages/pkg_resources/__init__.py:2871: DeprecationWarning: Deprecated call to `pkg_resources.declare_namespace('mpl_toolkits')`.\n",
      "Implementing implicit namespace packages (as specified in PEP 420) is preferred to `pkg_resources.declare_namespace`. See https://setuptools.pypa.io/en/latest/references/keywords.html#keyword-namespace-packages\n",
      "  declare_namespace(pkg)\n",
      "/usr/local/lib/python3.10/dist-packages/gym/core.py:317: DeprecationWarning: \u001b[33mWARN: Initializing wrapper in old step API which returns one bool instead of two. It is recommended to set `new_step_api=True` to use new step API. This will be the default behaviour in future.\u001b[0m\n",
      "  deprecation(\n",
      "/usr/local/lib/python3.10/dist-packages/gym/wrappers/step_api_compatibility.py:39: DeprecationWarning: \u001b[33mWARN: Initializing environment in old step API which returns one bool instead of two. It is recommended to set `new_step_api=True` to use new step API. This will be the default behaviour in future.\u001b[0m\n",
      "  deprecation(\n",
      "/usr/local/lib/python3.10/dist-packages/gym/utils/passive_env_checker.py:227: DeprecationWarning: \u001b[33mWARN: Core environment is written in old step API which returns one bool instead of two. It is recommended to rewrite the environment with new step API. \u001b[0m\n",
      "  logger.deprecation(\n",
      "/usr/local/lib/python3.10/dist-packages/gym/utils/passive_env_checker.py:233: DeprecationWarning: `np.bool8` is a deprecated alias for `np.bool_`.  (Deprecated NumPy 1.24)\n",
      "  if not isinstance(done, (bool, np.bool8)):\n",
      "/usr/local/lib/python3.10/dist-packages/gym/core.py:317: DeprecationWarning: \u001b[33mWARN: Initializing wrapper in old step API which returns one bool instead of two. It is recommended to set `new_step_api=True` to use new step API. This will be the default behaviour in future.\u001b[0m\n",
      "  deprecation(\n",
      "/usr/local/lib/python3.10/dist-packages/gym/wrappers/step_api_compatibility.py:39: DeprecationWarning: \u001b[33mWARN: Initializing environment in old step API which returns one bool instead of two. It is recommended to set `new_step_api=True` to use new step API. This will be the default behaviour in future.\u001b[0m\n",
      "  deprecation(\n",
      "{1: 1} {-1: 1}\n",
      "tensor(5.3867, grad_fn=<SubBackward0>) tensor(5.9109, grad_fn=<MeanBackward0>) tensor(2.4312, grad_fn=<NegBackward0>) tensor(1.1949e-28, grad_fn=<MeanBackward0>)\n",
      "tensor(1.2608, grad_fn=<SubBackward0>) tensor(0.0159, grad_fn=<MeanBackward0>) tensor(1.2529, grad_fn=<NegBackward0>) tensor(7.5522e-29, grad_fn=<MeanBackward0>)\n",
      "tensor(1.8483, grad_fn=<SubBackward0>) tensor(1.1908, grad_fn=<MeanBackward0>) tensor(1.2529, grad_fn=<NegBackward0>) tensor(4.6243e-29, grad_fn=<MeanBackward0>)\n",
      "tensor(2.6524, grad_fn=<SubBackward0>) tensor(0.4423, grad_fn=<MeanBackward0>) tensor(2.4312, grad_fn=<NegBackward0>) tensor(5.8541e-29, grad_fn=<MeanBackward0>)\n",
      "{1: 1, 3: 1, 0: 1, 4: 1, 2: 2, 5: 95} {-1: 3, -2: 98}\n",
      "% Exec Left 90.8; Time Consumed 60.09772205352783 sec\n",
      "tensor(1.4228, grad_fn=<SubBackward0>) tensor(0.9236, grad_fn=<MeanBackward0>) tensor(0.9610, grad_fn=<NegBackward0>) tensor(1.6366e-32, grad_fn=<MeanBackward0>)\n",
      "tensor(2.3525, grad_fn=<SubBackward0>) tensor(0.9751, grad_fn=<MeanBackward0>) tensor(1.8649, grad_fn=<NegBackward0>) tensor(6.6156e-33, grad_fn=<MeanBackward0>)\n",
      "tensor(3.3077, grad_fn=<SubBackward0>) tensor(2.8856, grad_fn=<MeanBackward0>) tensor(1.8649, grad_fn=<NegBackward0>) tensor(5.3046e-33, grad_fn=<MeanBackward0>)\n",
      "tensor(2.2777, grad_fn=<SubBackward0>) tensor(0.8256, grad_fn=<MeanBackward0>) tensor(1.8649, grad_fn=<NegBackward0>) tensor(1.2170e-32, grad_fn=<MeanBackward0>)\n",
      "{1: 1, 3: 1, 0: 1, 4: 1, 2: 2, 5: 195} {-1: 3, -2: 198}\n",
      "tensor(1.0059, grad_fn=<SubBackward0>) tensor(0.5409, grad_fn=<MeanBackward0>) tensor(0.7355, grad_fn=<NegBackward0>) tensor(2.2339e-34, grad_fn=<MeanBackward0>)\n",
      "tensor(5.8371, grad_fn=<SubBackward0>) tensor(8.8200, grad_fn=<MeanBackward0>) tensor(1.4272, grad_fn=<NegBackward0>) tensor(3.4220e-34, grad_fn=<MeanBackward0>)\n",
      "tensor(1.5830, grad_fn=<SubBackward0>) tensor(1.6951, grad_fn=<MeanBackward0>) tensor(0.7355, grad_fn=<NegBackward0>) tensor(1.2791e-34, grad_fn=<MeanBackward0>)\n",
      "tensor(2.7397, grad_fn=<SubBackward0>) tensor(2.6252, grad_fn=<MeanBackward0>) tensor(1.4272, grad_fn=<NegBackward0>) tensor(9.7227e-35, grad_fn=<MeanBackward0>)\n",
      "{1: 1, 3: 1, 0: 1, 4: 1, 2: 2, 5: 295} {-1: 3, -2: 298}\n",
      "% Exec Left 81.5; Time Consumed 120.71706223487854 sec\n",
      "^C\n",
      "Traceback (most recent call last):\n",
      "  File \"/NLP_RL_Docker_Version/ppo.py\", line 250, in <module>\n",
      "    ppo_update(model, optimizer, ppo_epochs, temp_mini_batch_size, statesArr, statesNlpArr, actionsArr, log_probsArr, returns, advantage)\n",
      "  File \"/NLP_RL_Docker_Version/ppo.py\", line 86, in ppo_update\n",
      "    optimizer.step()\n",
      "  File \"/usr/local/lib/python3.10/dist-packages/torch/optim/optimizer.py\", line 280, in wrapper\n",
      "    out = func(*args, **kwargs)\n",
      "  File \"/usr/local/lib/python3.10/dist-packages/torch/optim/optimizer.py\", line 33, in _use_grad\n",
      "    ret = func(self, *args, **kwargs)\n",
      "  File \"/usr/local/lib/python3.10/dist-packages/torch/optim/adam.py\", line 141, in step\n",
      "    adam(\n",
      "  File \"/usr/local/lib/python3.10/dist-packages/torch/optim/adam.py\", line 281, in adam\n",
      "    func(params,\n",
      "  File \"/usr/local/lib/python3.10/dist-packages/torch/optim/adam.py\", line 344, in _single_tensor_adam\n",
      "    exp_avg.mul_(beta1).add_(grad, alpha=1 - beta1)\n",
      "KeyboardInterrupt\n"
     ]
    }
   ],
   "source": [
    "!python3 -W ignore ppo.py --model 0 --ease -1"
   ]
  },
  {
   "cell_type": "code",
   "execution_count": null,
   "metadata": {},
   "outputs": [],
   "source": [
    "import sys \n",
    "sys.path.append('/NLP_RL_Docker_Version/gym-examples')\n",
    "import gym \n",
    "import model as M\n",
    "import model_nlp as MNLP\n",
    "import utils as U\n",
    "import torch\n",
    "import copy\n",
    "import gym_examples\n",
    "suffix = [['easy','medium','hard','naive'],['fnlp_easy','fnlp_medium','fnlp_hard','fnlp_naive']]"
   ]
  },
  {
   "cell_type": "code",
   "execution_count": null,
   "metadata": {},
   "outputs": [],
   "source": [
    "import json \n",
    "import matplotlib.pyplot as plt \n",
    "\n",
    "def plot_ppo(name):\n",
    "    arr=[]\n",
    "    with open(f'results/test_reward_list_{name}.json', 'r') as file:\n",
    "        arr=json.load(file)\n",
    "        x,y=[arr[i][0] for i in range(len(arr))], [arr[i][1] for i in range(len(arr))]\n",
    "        plt.plot(x,y)\n",
    "        plt.xlabel(f'Frame Number')\n",
    "        plt.ylabel(f'Cumulative Reward')\n",
    "        plt.show()"
   ]
  },
  {
   "cell_type": "code",
   "execution_count": null,
   "metadata": {},
   "outputs": [],
   "source": [
    "def run_best_env(number,name):\n",
    "    str_arr = name.split('_')\n",
    "    opt = 0\n",
    "    if 'fnlp' in str_arr:\n",
    "        opt = 1\n",
    "    def policy(S):\n",
    "        nonlocal opt \n",
    "        if opt == 0:\n",
    "            dist, value = model(S['visual'])\n",
    "        elif opt == 1:\n",
    "            dist, value = model(S['visual'],S['text'])\n",
    "        action = dist.sample()\n",
    "        return action.cpu().numpy().item()\n",
    "    device = torch.device('cuda' if torch.cuda.is_available() else 'cpu')\n",
    "    if opt == 0:\n",
    "        model = M.NNModel().to(device)\n",
    "    elif opt == 1:\n",
    "        model = MNLP.NNModelNLP().to(device)\n",
    "    model.load_state_dict(torch.load(f'results/model_{name}.ml'))\n",
    "    dbg=True \n",
    "    episodes=1\n",
    "    env = gym.make('gym_examples/RlNlpWorld-v0',render_mode=\"rgb_array\")\n",
    "    for _ in range(episodes):\n",
    "        cumulative_reward,steps=0,0\n",
    "        observation = env.reset(set_no=number,seed=42)\n",
    "        state = copy.deepcopy(observation)\n",
    "        observation['state'] = U.pre_process(observation)\n",
    "        if opt == 1:\n",
    "            observation['text'] = U.pre_process_text(model,observation)\n",
    "        while True:\n",
    "            print(observation['text'])\n",
    "            if dbg==True:\n",
    "                plt.imshow(state['visual'])\n",
    "                plt.show()\n",
    "            action = policy(observation)  # User-defined policy function\n",
    "            observation, reward, terminated, info = env.step(action)\n",
    "            print(f'Action {action}')\n",
    "            state = copy.deepcopy(observation)\n",
    "            observation['state'] = U.pre_process(observation)\n",
    "            if opt == 1:\n",
    "                observation['text'] = U.pre_process_text(model,observation)\n",
    "            cumulative_reward += reward\n",
    "            steps += 1\n",
    "            if terminated: break\n",
    "        print(f'Cumulative Reward ~ {cumulative_reward}; TimeTaken ~ {steps}')\n",
    "    env.close()"
   ]
  },
  {
   "cell_type": "code",
   "execution_count": null,
   "metadata": {},
   "outputs": [],
   "source": [
    "plot_ppo(suffix[0][-1])\n",
    "run_best_env(1,suffix[0][-1])"
   ]
  },
  {
   "cell_type": "code",
   "execution_count": null,
   "metadata": {},
   "outputs": [],
   "source": [
    "!python3 -W ignore ppo.py --model 1 --ease -1"
   ]
  },
  {
   "cell_type": "code",
   "execution_count": null,
   "metadata": {},
   "outputs": [],
   "source": [
    "plot_ppo(suffix[1][-1])\n",
    "run_best_env(1,suffix[1][-1])"
   ]
  },
  {
   "attachments": {},
   "cell_type": "markdown",
   "metadata": {},
   "source": [
    "### Best Agent"
   ]
  },
  {
   "cell_type": "code",
   "execution_count": null,
   "metadata": {},
   "outputs": [],
   "source": [
    "def best_env(number=1):\n",
    "    f,s,t = number//100,(number%100)//10,number%10\n",
    "    exp_action = [0,3]*f + [1,4]*s + [2,5]*t\n",
    "    exp_action_indx = 0\n",
    "    def human_policy(observation):\n",
    "        nonlocal exp_action_indx\n",
    "        # action=int(input())\n",
    "        try:\n",
    "            action = exp_action[exp_action_indx]\n",
    "            exp_action_indx += 1\n",
    "        except Exception as e:\n",
    "            action = -1\n",
    "        return action\n",
    "    dbg=True \n",
    "    episodes=1\n",
    "    env = gym.make('gym_examples/RlNlpWorld-v0',render_mode=\"rgb_array\")\n",
    "    for _ in range(episodes):\n",
    "        cumulative_reward,steps=0,0\n",
    "        observation = env.reset(set_no=number)\n",
    "        cnt,mx_iter=0,1002\n",
    "        while steps<mx_iter:\n",
    "            print(observation['text'])\n",
    "            if dbg==True:\n",
    "                plt.imshow(observation['visual'])\n",
    "                plt.show()\n",
    "            action = human_policy(observation)  # User-defined policy function\n",
    "            print(action)\n",
    "            observation, reward, terminated, info = env.step(action)\n",
    "            cumulative_reward+=reward\n",
    "            steps+=1\n",
    "            if dbg==True:\n",
    "                print(f'cumulative_reward {cumulative_reward}; action {action}')\n",
    "            if terminated:\n",
    "                break\n",
    "        print(f'Cumulative Reward ~ {cumulative_reward}; TimeTaken ~ {steps}')\n",
    "    env.close()"
   ]
  },
  {
   "cell_type": "code",
   "execution_count": null,
   "metadata": {},
   "outputs": [],
   "source": [
    "best_env()"
   ]
  }
 ],
 "metadata": {
  "kernelspec": {
   "display_name": "Python 3",
   "language": "python",
   "name": "python3"
  },
  "language_info": {
   "codemirror_mode": {
    "name": "ipython",
    "version": 3
   },
   "file_extension": ".py",
   "mimetype": "text/x-python",
   "name": "python",
   "nbconvert_exporter": "python",
   "pygments_lexer": "ipython3",
   "version": "3.10.12"
  },
  "orig_nbformat": 4
 },
 "nbformat": 4,
 "nbformat_minor": 2
}
