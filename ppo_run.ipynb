{
 "cells": [
  {
   "cell_type": "code",
   "execution_count": null,
   "metadata": {},
   "outputs": [],
   "source": [
    "%cd NLP_RL_Docker_Version/"
   ]
  },
  {
   "cell_type": "code",
   "execution_count": null,
   "metadata": {},
   "outputs": [],
   "source": [
    "!python3 -W ignore ppo.py --model 0 --ease -1"
   ]
  },
  {
   "cell_type": "code",
   "execution_count": null,
   "metadata": {},
   "outputs": [],
   "source": [
    "import sys \n",
    "sys.path.append('/NLP_RL_Docker_Version/gym-examples')\n",
    "import gym \n",
    "import model as M\n",
    "import model_nlp as MNLP\n",
    "import utils as U\n",
    "import torch\n",
    "import copy\n",
    "import gym_examples\n",
    "suffix = [['easy','medium','hard','naive'],['fnlp_easy','fnlp_medium','fnlp_hard','fnlp_naive']]"
   ]
  },
  {
   "cell_type": "code",
   "execution_count": null,
   "metadata": {},
   "outputs": [],
   "source": [
    "import json \n",
    "import matplotlib.pyplot as plt \n",
    "\n",
    "def plot_ppo(name):\n",
    "    arr=[]\n",
    "    with open(f'results/test_reward_list_{name}.json', 'r') as file:\n",
    "        arr=json.load(file)\n",
    "        x,y=[arr[i][0] for i in range(len(arr))], [arr[i][1] for i in range(len(arr))]\n",
    "        plt.plot(x,y)\n",
    "        plt.xlabel(f'Frame Number')\n",
    "        plt.ylabel(f'Cumulative Reward')\n",
    "        plt.show()"
   ]
  },
  {
   "cell_type": "code",
   "execution_count": null,
   "metadata": {},
   "outputs": [],
   "source": [
    "def run_best_env(number,name):\n",
    "    str_arr = name.split('_')\n",
    "    opt = 0\n",
    "    if 'fnlp' in str_arr:\n",
    "        opt = 1\n",
    "    def policy(S):\n",
    "        nonlocal opt \n",
    "        if opt == 0:\n",
    "            dist, value = model(S['visual'])\n",
    "        elif opt == 1:\n",
    "            dist, value = model(S['visual'],S['text'])\n",
    "        action = dist.sample()\n",
    "        return action.cpu().numpy().item()\n",
    "    device = torch.device('cuda' if torch.cuda.is_available() else 'cpu')\n",
    "    if opt == 0:\n",
    "        model = M.NNModel().to(device)\n",
    "    elif opt == 1:\n",
    "        model = MNLP.NNModelNLP().to(device)\n",
    "    model.load_state_dict(torch.load(f'results/model_{name}.ml'))\n",
    "    dbg=True \n",
    "    episodes=1\n",
    "    env = gym.make('gym_examples/RlNlpWorld-v0',render_mode=\"rgb_array\")\n",
    "    for _ in range(episodes):\n",
    "        cumulative_reward,steps=0,0\n",
    "        observation = env.reset(set_no=number,seed=42)\n",
    "        state = copy.deepcopy(observation)\n",
    "        observation['state'] = U.pre_process(observation)\n",
    "        if opt == 1:\n",
    "            observation['text'] = U.pre_process_text(model,observation)\n",
    "        while True:\n",
    "            print(observation['text'])\n",
    "            if dbg==True:\n",
    "                plt.imshow(state['visual'])\n",
    "                plt.show()\n",
    "            action = policy(observation)  # User-defined policy function\n",
    "            observation, reward, terminated, info = env.step(action)\n",
    "            #print(f'Action {action}')\n",
    "            state = copy.deepcopy(observation)\n",
    "            observation['state'] = U.pre_process(observation)\n",
    "            observation['text'] = U.pre_process_text(model,observation)\n",
    "            cumulative_reward+=reward\n",
    "            steps+=1\n",
    "            if terminated: break\n",
    "        print(f'Cumulative Reward ~ {cumulative_reward}; TimeTaken ~ {steps}')\n",
    "    env.close()"
   ]
  },
  {
   "cell_type": "code",
   "execution_count": null,
   "metadata": {},
   "outputs": [],
   "source": [
    "plot_ppo(suffix[0][-1])\n",
    "run_best_env(1,suffix[0][-1])"
   ]
  },
  {
   "cell_type": "code",
   "execution_count": null,
   "metadata": {},
   "outputs": [],
   "source": [
    "!python3 -W ignore ppo.py --model 1 --ease -1"
   ]
  },
  {
   "cell_type": "code",
   "execution_count": null,
   "metadata": {},
   "outputs": [],
   "source": [
    "plot_ppo(suffix[1][-1])\n",
    "run_best_env(1,suffix[1][-1])"
   ]
  }
 ],
 "metadata": {
  "kernelspec": {
   "display_name": "Python 3",
   "language": "python",
   "name": "python3"
  },
  "language_info": {
   "codemirror_mode": {
    "name": "ipython",
    "version": 3
   },
   "file_extension": ".py",
   "mimetype": "text/x-python",
   "name": "python",
   "nbconvert_exporter": "python",
   "pygments_lexer": "ipython3",
   "version": "3.10.12"
  },
  "orig_nbformat": 4
 },
 "nbformat": 4,
 "nbformat_minor": 2
}
